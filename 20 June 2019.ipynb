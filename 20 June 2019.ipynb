{
 "cells": [
  {
   "cell_type": "markdown",
   "metadata": {},
   "source": [
    "### Day Objectives\n",
    "    Regular Expressions:\n",
    "    Constructing the Regular Expressions for various use cases\n",
    "    Regular Expressions Module and related in Python\n",
    "    Improving the Contacts application with name and phone number validation\n",
    "    File Handling\n",
    "    Text Files\n",
    "    Upgrading the Contacts Application to store contact information n a text file\n"
   ]
  },
  {
   "cell_type": "markdown",
   "metadata": {},
   "source": [
    "### Regular Expressions \n",
    " - Pattern Matching\n",
    " -Symbolic Notation of a pattern\n",
    "  -Pattern : Format which repeats\n",
    "  - Pattern(RE) - represents The set of all value strings match that pattern \n",
    " -[0-9] -> Any digit\n",
    " -[a-z]-> Any lower case alphabet\n",
    " - [2468]->All single di*git multiples of 2\n",
    "     [8642]\n",
    "     [6824]\n",
    "     -[0-9]{1}$ -> only single digit numbers\n",
    "     -[0-9]{3} -> only three digit numbers\n",
    "     -[0-9]*0$ # All Multiples of 10\n",
    "     [w][o][r][d] or (word) -> searching for a 'word'"
   ]
  },
  {
   "cell_type": "markdown",
   "metadata": {},
   "source": [
    "^([1-9][0-9]*[05]([5]))$^# REgular expression for Al multiples of 5\n",
    "#Regular expression for All 10 digit numbers\n",
    "#Regular expression for  Validating Phone number(India)(strt with 9876 followed by)\n",
    "#Email Validation(username@)domain.extension)\n",
    " - user name\n",
    "   - length of username : [6, 15]\n",
    "   - No special character other than _ .(first letter)\n",
    "   - Should not begin and end with _ .\n",
    "   - Character Set : all digits lowercase and alphabet\n",
    " -domain\n",
    "     -Length of domain :[3, 18]\n",
    "     -No special Characters\n",
    "     -Character Set : all digits and alphabet\n",
    " -extension\n",
    "    -Length of extension : [2, 4]\n",
    "    -No Special Characters\n",
    "    -Character Set : alphabet\n",
    "    Any string of length 5 that starts with 'a' and ends"
   ]
  },
  {
   "cell_type": "code",
   "execution_count": null,
   "metadata": {},
   "outputs": [],
   "source": [
    "# Function to validate a phone number in Python\n",
    "\n",
    "import re\n",
    "\n",
    "def phoneNumberValidator(number)\n",
    "    pattern = '^[6-9][0-9]{9}$^[0][6-9][0-9]{9}\n",
    "    if re.match(pattern, str(number)):\n",
    "        \n",
    "        print(\"Valid Number\")\n",
    "    else:\n",
    "        print(\"Invali Number\")\n",
    "\n",
    "        return"
   ]
  },
  {
   "cell_type": "markdown",
   "metadata": {},
   "source": [
    "### File Handling in Python\n",
    "    File - Document containing information residing on the permanent storage\n",
    "    Types - Text,PDF,CSV, Image , Program related files etc\n",
    "     \n",
    "    File I/O - Channelling I/O data to files\n",
    "    Default I/O channels - keyboard/Screen\n",
    "    \n",
    "    Change I/O channel to files for Reading and writing\n",
    "    \n",
    "    Read a file - Input from a file\n",
    "    write to a file - Output to a file \n",
    "    \n",
    "    Read a file - open(filename, mode)\n",
    "    \n",
    "    \n",
    "    "
   ]
  },
  {
   "cell_type": "code",
   "execution_count": 10,
   "metadata": {},
   "outputs": [
    {
     "name": "stdout",
     "output_type": "stream",
     "text": [
      "Line1\n",
      "Line2\n",
      "Line3"
     ]
    }
   ],
   "source": [
    "def readFile(filename):\n",
    "    f = open(filename, 'r')\n",
    "    filedata = f.read()\n",
    "    f.close()\n",
    "    return filedata\n",
    "filename = 'Data/data.txt'\n",
    "filedata = readFile(filename)\n",
    "#for line in filedata.split('\\n'):\n",
    "   # print(line)(filename):\n",
    "    \n",
    "def printFileDataLines(filename):\n",
    "     with open(filename, 'r') as f:\n",
    "    for line in f:\n",
    "        print(line, end='')\n",
    "\n",
    "    return\n",
    "printFileDataLines(filename)\n"
   ]
  },
  {
   "cell_type": "markdown",
   "metadata": {},
   "source": [
    "# Function to write data into a file"
   ]
  },
  {
   "cell_type": "code",
   "execution_count": 11,
   "metadata": {},
   "outputs": [],
   "source": [
    "def writeIntoFile(filename, filedata):\n",
    "    with open(filename, 'w') as f:\n",
    "        f.write(filedata)\n",
    "    return\n",
    "\n",
    "filename = 'Data/data.txt'\n",
    "\n",
    "writeIntoFile(filename, \"new data\")"
   ]
  },
  {
   "cell_type": "markdown",
   "metadata": {},
   "source": [
    "# Function to append data to a file"
   ]
  },
  {
   "cell_type": "code",
   "execution_count": 17,
   "metadata": {},
   "outputs": [],
   "source": [
    "def appendDataToFile(filename, filedata):\n",
    "    \n",
    "    with open(filename, 'a') as f:\n",
    "        \n",
    "        f.write(filedata)\n",
    "    \n",
    "    return \n",
    "\n",
    "filedata = \"Line2\\nLine3\"\n",
    "\n",
    "appendDataToFile(filename, filedata)\n",
    "\n",
    "    "
   ]
  },
  {
   "cell_type": "code",
   "execution_count": null,
   "metadata": {},
   "outputs": [],
   "source": []
  }
 ],
 "metadata": {
  "kernelspec": {
   "display_name": "Python 3",
   "language": "python",
   "name": "python3"
  },
  "language_info": {
   "codemirror_mode": {
    "name": "ipython",
    "version": 3
   },
   "file_extension": ".py",
   "mimetype": "text/x-python",
   "name": "python",
   "nbconvert_exporter": "python",
   "pygments_lexer": "ipython3",
   "version": "3.7.3"
  }
 },
 "nbformat": 4,
 "nbformat_minor": 2
}
